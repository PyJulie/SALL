{
 "cells": [
  {
   "cell_type": "code",
   "execution_count": 1,
   "metadata": {},
   "outputs": [
    {
     "name": "stderr",
     "output_type": "stream",
     "text": [
      "Using TensorFlow backend.\n"
     ]
    }
   ],
   "source": [
    "from keras.models import load_model\n",
    "import keras.backend as K\n",
    "from keras.metrics import categorical_accuracy\n",
    "from keras.losses import categorical_crossentropy as logloss\n",
    "model_multi = load_model('../checkpoints/inceptionv3_299_amd.hdf5')\n"
   ]
  },
  {
   "cell_type": "code",
   "execution_count": 2,
   "metadata": {},
   "outputs": [
    {
     "name": "stdout",
     "output_type": "stream",
     "text": [
      "['normal', 'NPDRI', 'NPDRII', 'NPDRIII', 'PDR', 'small_drusen', 'big_drusen', 'CNV', 'arter']\n",
      "2454\n",
      "2997\n",
      "4782\n",
      "5622\n",
      "6543\n",
      "2579\n",
      "3187\n",
      "5745\n",
      "8199\n"
     ]
    }
   ],
   "source": [
    "import os\n",
    "base_image_dir = '/root/data_299_299/'\n",
    "files = ['normal','NPDRI','NPDRII','NPDRIII','PDR','small_drusen','big_drusen','CNV','arter']\n",
    "\n",
    "i=0\n",
    "print(files)\n",
    "test_samples_dr = []\n",
    "\n",
    "for file in files[:5]:\n",
    "    sub_path = os.path.join(base_image_dir,file)\n",
    "    for _ in os.listdir(sub_path)[int(0.75*len(os.listdir(sub_path))):]:\n",
    "        test_samples_dr.append(_)\n",
    "    \n",
    "test_samples_amd = []\n",
    "for file in files[5:8]:\n",
    "    sub_path = os.path.join(base_image_dir,file)\n",
    "    for _ in os.listdir(sub_path)[int(0.75*len(os.listdir(sub_path))):]:\n",
    "        test_samples_amd.append(_)\n",
    "    print(len(test_samples_amd))\n",
    "for file in files[:1]:\n",
    "    sub_path = os.path.join(base_image_dir,file)\n",
    "    for _ in os.listdir(sub_path)[int(0.75*len(os.listdir(sub_path))):]:\n",
    "        test_samples_amd.append(_)\n",
    "    print(len(test_samples_amd))"
   ]
  },
  {
   "cell_type": "code",
   "execution_count": 3,
   "metadata": {},
   "outputs": [],
   "source": [
    "from scipy import misc\n",
    "import numpy as np\n",
    "from keras.applications.inception_v3 import preprocess_input\n",
    "import os\n",
    "import cv2\n",
    "\n",
    "dic = {\n",
    " '0':'normal',\n",
    " '1': 'NPDRI',\n",
    " '2':'NPDRII',\n",
    " '3':'NPDRIII',\n",
    " '4':'PDR',\n",
    " '5':'small_drusen',\n",
    " '6':'big_drusen',\n",
    " '7':'CNV',\n",
    " '8':'arter'\n",
    "}\n",
    "data = []\n",
    "for i in range(10):\n",
    "    data.append([])\n",
    "\n",
    "count_right = [0 for x in range(10)]\n"
   ]
  },
  {
   "cell_type": "code",
   "execution_count": 5,
   "metadata": {},
   "outputs": [
    {
     "name": "stderr",
     "output_type": "stream",
     "text": [
      "/usr/local/lib/python3.5/dist-packages/ipykernel_launcher.py:17: DeprecationWarning: `imread` is deprecated!\n",
      "`imread` is deprecated in SciPy 1.0.0, and will be removed in 1.2.0.\n",
      "Use ``imageio.imread`` instead.\n"
     ]
    },
    {
     "name": "stdout",
     "output_type": "stream",
     "text": [
      "500\n",
      "1000\n",
      "1500\n",
      "2000\n",
      "2500\n",
      "3000\n",
      "3500\n",
      "4000\n",
      "4500\n",
      "5000\n",
      "5500\n",
      "6000\n",
      "6500\n",
      "7000\n",
      "7500\n",
      "8000\n"
     ]
    }
   ],
   "source": [
    "\n",
    "progress =0\n",
    "\n",
    "for img in test_samples_amd:\n",
    "    orign_img = misc.imread(base_image_dir+'/'+dic[img[0]]+'/'+img)\n",
    "    test_img = np.expand_dims(orign_img,axis = 0)\n",
    "    test_img = preprocess_input(np.array(test_img).astype(float))\n",
    "    predict_2 = model_multi.predict(test_img)\n",
    "    max_pro = np.max(predict_2)\n",
    "    if int(img[0]) == 0:\n",
    "        if np.argmax(predict_2) == int(img[0]):\n",
    "            data[int(max_pro*10)-1].append(max_pro)\n",
    "    else:\n",
    "        if np.argmax(predict_2) == int(img[0])-4:\n",
    "            data[int(max_pro*10)-1].append(max_pro)\n",
    "\n",
    "    count_right[int(max_pro*10)-1]+=1\n",
    "    progress+=1\n",
    "    if progress%500 == 0:\n",
    "        print(progress)"
   ]
  },
  {
   "cell_type": "code",
   "execution_count": 9,
   "metadata": {},
   "outputs": [
    {
     "name": "stderr",
     "output_type": "stream",
     "text": [
      "/usr/local/lib/python3.5/dist-packages/matplotlib/axes/_axes.py:6571: UserWarning: The 'normed' kwarg is deprecated, and has been replaced by the 'density' kwarg.\n",
      "  warnings.warn(\"The 'normed' kwarg is deprecated, and has been \"\n"
     ]
    },
    {
     "data": {
      "text/plain": [
       "(array([0.02185214, 0.04370428, 0.2185214 , 0.2185214 , 0.30592996,\n",
       "        0.37148638, 0.39333852, 0.3277821 , 0.15296498, 0.13111284]),\n",
       " array([-2.64545904, -2.18783795, -1.73021686, -1.27259577, -0.81497468,\n",
       "        -0.35735359,  0.1002675 ,  0.55788859,  1.01550968,  1.47313077,\n",
       "         1.93075186]),\n",
       " <a list of 10 Patch objects>)"
      ]
     },
     "execution_count": 9,
     "metadata": {},
     "output_type": "execute_result"
    },
    {
     "data": {
      "image/png": "[encoded data removed]",
      "text/plain": [
       "<Figure size 432x288 with 1 Axes>"
      ]
     },
     "metadata": {},
     "output_type": "display_data"
    }
   ],
   "source": [
    "data = np.random.randn(100)\n",
    "plt.hist(data,bins = 10,normed=1, facecolor = 'blue',edgecolor = 'black',alpha = 1)"
   ]
  },
  {
   "cell_type": "code",
   "execution_count": 17,
   "metadata": {},
   "outputs": [
    {
     "name": "stdout",
     "output_type": "stream",
     "text": [
      "[0, 2, 61, 341, 785, 906, 962, 1222, 3920, 0]\n",
      "[0, 0.5, 0.30409324324324327, 0.4334376811594203, 0.5156328337874659, 0.5670817531305904, 0.6910785254534816, 0.7724555655700766, 0.9537052101835405, 0]\n"
     ]
    }
   ],
   "source": [
    "print(count_right)\n",
    "values3 = [0,0.5,0.2989,0.4258,0.4905,0.5331,0.6774,0.7523,0.9609,0]\n",
    "values5 = [0,0.5,0.3115,0.4428,0.5375,0.5960,0.7017,0.7889,0.9485,0]\n",
    "count_right_dr = [0,4,87,418,683,771,747,997,2836,0]\n",
    "new_count_right = [0]+[(count_right_dr[i]*values3[i]+count_right[i]*values5[i])/(count_right_dr[i]+count_right[i]) for i in range(1,9)]+[0]\n",
    "print(new_count_right)"
   ]
  },
  {
   "cell_type": "code",
   "execution_count": 18,
   "metadata": {},
   "outputs": [
    {
     "name": "stdout",
     "output_type": "stream",
     "text": [
      "0.5\n",
      "0.3114754098360656\n",
      "0.44281524926686217\n",
      "0.5375796178343949\n",
      "0.5960264900662252\n",
      "0.7016632016632016\n",
      "0.7888707037643208\n",
      "0.948469387755102\n"
     ]
    },
    {
     "data": {
      "text/plain": [
       "<BarContainer object of 10 artists>"
      ]
     },
     "execution_count": 18,
     "metadata": {},
     "output_type": "execute_result"
    },
    {
     "data": {
      "image/png": "[encoded data removed]",
      "text/plain": [
       "<Figure size 432x288 with 1 Axes>"
      ]
     },
     "metadata": {},
     "output_type": "display_data"
    }
   ],
   "source": [
    "import matplotlib.pyplot as plt\n",
    "import numpy as np\n",
    "index = np.arange(10)\n",
    "for x in range(1,9):\n",
    "    print(len(data[x])/count_right[x])\n",
    "values3 = [0,0.5,0.3115,0.4428,0.5375,0.5960,0.7017,0.7889,0.9485,0]\n",
    "values4 = [abs(0.1*x-new_count_right[x-1]) for x in range(1,11)]\n",
    "plt.bar(index,new_count_right,color = 'blue',edgecolor = 'black',align = 'edge',width = 1.0)\n",
    "plt.bar(index,values4,color = 'orangered',edgecolor = 'black',align = 'edge',bottom = new_count_right,width = 1.0)"
   ]
  },
  {
   "cell_type": "code",
   "execution_count": 5,
   "metadata": {},
   "outputs": [
    {
     "data": {
      "text/plain": [
       "<matplotlib.legend.Legend at 0x7fcfa5927da0>"
      ]
     },
     "execution_count": 5,
     "metadata": {},
     "output_type": "execute_result"
    },
    {
     "data": {
      "image/png": "[encoded data removed]",
      "text/plain": [
       "<Figure size 648x432 with 1 Axes>"
      ]
     },
     "metadata": {},
     "output_type": "display_data"
    }
   ],
   "source": [
    "import matplotlib.pyplot as plt\n",
    "import numpy as np\n",
    "index = np.arange(10)\n",
    "plt.figure(figsize=(9,6))\n",
    "plt.xlabel('confidence')\n",
    "plt.ylabel('accuracy')\n",
    "plt.xticks(index,(0,0.1,0.2,0.3,0.4,0.5,0.6,0.7,0.8,0.9))\n",
    "plt.yticks(np.arange(0,1.1,0.1))\n",
    "values3 = [0,0.5,0.2989,0.4258,0.4905,0.5331,0.6774,0.7523,0.9609,0]\n",
    "values4 = [abs(0.1*x-values3[x-1]) for x in range(1,11)]\n",
    "plt.title('Before')\n",
    "plt.bar(index,values3,color = 'blue',edgecolor = 'black',align = 'edge',width = 1.0,label = 'Outputs')\n",
    "plt.bar(index,values4,color = 'orangered',edgecolor = 'black',align = 'edge',bottom = values3,width = 1.0, label = 'GAP')\n",
    "plt.legend()\n",
    "plt.save()"
   ]
  },
  {
   "cell_type": "code",
   "execution_count": 13,
   "metadata": {},
   "outputs": [],
   "source": [
    "import matplotlib.pyplot as plt\n",
    "import numpy as np\n",
    "index = np.arange(10)\n",
    "values = (0,0.1111,0.3448,0.4654,0.5288,0.6172,0.7138,0.8211,0.9395,0)"
   ]
  },
  {
   "cell_type": "code",
   "execution_count": 15,
   "metadata": {},
   "outputs": [
    {
     "name": "stdout",
     "output_type": "stream",
     "text": [
      "[0.1, 0.0889, 0.04479999999999995, 0.06539999999999996, 0.028800000000000048, 0.017199999999999882, 0.013799999999999923, 0.021100000000000008, 0.03949999999999998, 1.0]\n"
     ]
    },
    {
     "data": {
      "text/plain": [
       "<matplotlib.legend.Legend at 0x7fcfa559f828>"
      ]
     },
     "execution_count": 15,
     "metadata": {},
     "output_type": "execute_result"
    },
    {
     "data": {
      "image/png": "[encoded data removed]",
      "text/plain": [
       "<Figure size 648x432 with 1 Axes>"
      ]
     },
     "metadata": {},
     "output_type": "display_data"
    }
   ],
   "source": [
    "plt.figure(figsize=(9,6))\n",
    "plt.xlabel('confidence')\n",
    "plt.ylabel('accuracy')\n",
    "plt.xticks(index,(0,0.1,0.2,0.3,0.4,0.5,0.6,0.7,0.8,0.9))\n",
    "plt.yticks(np.arange(0,1.1,0.1))\n",
    "values2 = [abs(0.1*x-values[x-1]) for x in range(1,11)]\n",
    "print(values2)\n",
    "plt.title('After')\n",
    "plt.bar(index,values,color = 'blue',edgecolor = 'black',align = 'edge',width = 1.0,label = 'Outputs')\n",
    "plt.bar(index,values2,color = 'orangered',edgecolor = 'black',align = 'edge',bottom = values,width = 1.0,label = 'GAP')\n",
    "plt.legend()"
   ]
  },
  {
   "cell_type": "code",
   "execution_count": null,
   "metadata": {},
   "outputs": [],
   "source": []
  }
 ],
 "metadata": {
  "kernelspec": {
   "display_name": "Python 3",
   "language": "python",
   "name": "python3"
  },
  "language_info": {
   "codemirror_mode": {
    "name": "ipython",
    "version": 3
   },
   "file_extension": ".py",
   "mimetype": "text/x-python",
   "name": "python",
   "nbconvert_exporter": "python",
   "pygments_lexer": "ipython3",
   "version": "3.8.5"
  }
 },
 "nbformat": 4,
 "nbformat_minor": 2
}
